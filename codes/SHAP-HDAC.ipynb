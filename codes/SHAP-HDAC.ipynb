{
 "cells": [
  {
   "cell_type": "code",
   "execution_count": null,
   "id": "704c60e1",
   "metadata": {},
   "outputs": [],
   "source": [
    "from sklearn.ensemble import RandomForestRegressor\n",
    "from sklearn.model_selection import train_test_split\n",
    "import pandas as pd\n",
    "from eli5.sklearn import PermutationImportance\n",
    "import eli5\n",
    "import webbrowser\n",
    "\n",
    "df = pd.read_csv('kubraHDAI.csv')\n",
    "\n",
    "X =df.iloc[:, 0:881]  \n",
    "y = df.iloc[:, -1]  \n",
    "\n",
    "X_train, X_test, y_train, y_test = train_test_split(X, y, test_size=0.2, random_state=42)"
   ]
  },
  {
   "cell_type": "code",
   "execution_count": null,
   "id": "e4d6a635",
   "metadata": {},
   "outputs": [],
   "source": [
    "X"
   ]
  },
  {
   "cell_type": "code",
   "execution_count": null,
   "id": "1f15de86",
   "metadata": {},
   "outputs": [],
   "source": [
    "import random"
   ]
  },
  {
   "cell_type": "code",
   "execution_count": null,
   "id": "197cd61e",
   "metadata": {},
   "outputs": [],
   "source": [
    "import numpy as np"
   ]
  },
  {
   "cell_type": "code",
   "execution_count": null,
   "id": "81983c69",
   "metadata": {},
   "outputs": [],
   "source": [
    "np.random.seed(0)"
   ]
  },
  {
   "cell_type": "code",
   "execution_count": null,
   "id": "50c0ebcd",
   "metadata": {},
   "outputs": [],
   "source": [
    "from sklearn.metrics import r2_score, mean_squared_error, mean_absolute_error"
   ]
  },
  {
   "cell_type": "code",
   "execution_count": null,
   "id": "8f88fde5",
   "metadata": {},
   "outputs": [],
   "source": [
    "import xgboost\n"
   ]
  },
  {
   "cell_type": "code",
   "execution_count": null,
   "id": "cbb28196",
   "metadata": {},
   "outputs": [],
   "source": [
    "pip install eli5"
   ]
  },
  {
   "cell_type": "code",
   "execution_count": null,
   "id": "29c3f87a",
   "metadata": {},
   "outputs": [],
   "source": [
    "from sklearn.ensemble import RandomForestRegressor\n",
    "from sklearn.model_selection import train_test_split\n",
    "import pandas as pd\n",
    "from eli5.sklearn import PermutationImportance\n",
    "import eli5\n",
    "import webbrowser\n",
    "\n",
    "df = pd.read_csv('kubraHDAI.csv')\n",
    "\n",
    "X =df.iloc[:, 0:881].values \n",
    "y = df.iloc[:, -1].values\n",
    "\n",
    "X_train, X_test, y_train, y_test = train_test_split(X, y, test_size=0.2, random_state=42)"
   ]
  },
  {
   "cell_type": "code",
   "execution_count": null,
   "id": "35ace4f4",
   "metadata": {},
   "outputs": [],
   "source": [
    "model = xgboost.XGBRegressor()\n",
    "\n",
    "model.fit(X_train, y_train)\n",
    "\n",
    "matrix = model.feature_importances_\n",
    "\n",
    "feature_imp = PermutationImportance(model, random_state=42).fit(X_train, y_train)\n",
    "\n",
    "results = eli5.show_weights(feature_imp, feature_names = df.columns[0:881].values, top=881)"
   ]
  },
  {
   "cell_type": "code",
   "execution_count": null,
   "id": "2cf81321",
   "metadata": {},
   "outputs": [],
   "source": [
    "print(r2_score(y_train, model.predict(X_train)))\n",
    "\n",
    "print (mean_squared_error(y_train, model.predict(X_train)))\n",
    "\n",
    "print (mean_absolute_error(y_train, model.predict(X_train)))"
   ]
  },
  {
   "cell_type": "code",
   "execution_count": null,
   "id": "870174ea",
   "metadata": {},
   "outputs": [],
   "source": [
    "gt = eli5.explain_weights(feature_imp, feature_names = df.columns[0:881].values)\n",
    "\n",
    "aa = eli5.format_as_dataframe(eli5.explain_weights(feature_imp, top=881))\n",
    "\n",
    "#with open('importance.htm','wb') as f:\n",
    "#    f.write(wgt.data.encode(\"UTF-8\"))\n",
    "\n",
    "\n",
    "selected_features = aa[aa['weight'] >= 0.005]\n",
    "col_list = [ 'PubchemFP' + clm[1:] for clm in selected_features['feature']]\n",
    "col_list.append('pIC50')\n",
    "\n",
    "clean_df = df[col_list]"
   ]
  },
  {
   "cell_type": "code",
   "execution_count": null,
   "id": "cf0e422b",
   "metadata": {},
   "outputs": [],
   "source": [
    "len(col_list)"
   ]
  },
  {
   "cell_type": "code",
   "execution_count": null,
   "id": "092efb3b",
   "metadata": {},
   "outputs": [],
   "source": [
    "X_new =clean_df.iloc[:, 0:31]  \n",
    "y_new = clean_df.iloc[:, -1]   \n",
    "\n",
    "Xnew_train, Xnew_test, ynew_train, ynew_test = train_test_split(X_new, y_new, test_size=0.2, random_state=42)\n",
    "col_list=clean_df.columns[0:31]\n",
    "print(type(col_list))"
   ]
  },
  {
   "cell_type": "code",
   "execution_count": null,
   "id": "e32282c3",
   "metadata": {},
   "outputs": [],
   "source": [
    "\n",
    "model_new = RandomForestRegressor(n_estimators=100)\n",
    "\n",
    "model_new.fit(Xnew_train, ynew_train)\n",
    "\n",
    "from sklearn.metrics import r2_score, mean_squared_error, mean_absolute_error\n",
    "\n",
    "import seaborn as sns\n",
    "\n",
    "rf_predict = model_new.predict(Xnew_train)\n",
    "\n",
    "sns.regplot(ynew_train, rf_predict)\n",
    "\n",
    "\n"
   ]
  },
  {
   "cell_type": "code",
   "execution_count": null,
   "id": "2f9c2625",
   "metadata": {},
   "outputs": [],
   "source": [
    "import shap\n",
    "import matplotlib\n",
    "explainer = shap.Explainer(model_new, Xnew_train)\n",
    "shap_values = explainer(Xnew_train)"
   ]
  },
  {
   "cell_type": "code",
   "execution_count": null,
   "id": "59be1ce6",
   "metadata": {},
   "outputs": [],
   "source": [
    "shap.plots.waterfall(shap_values[0])\n",
    "max_display=31"
   ]
  },
  {
   "cell_type": "code",
   "execution_count": null,
   "id": "7aa7b309",
   "metadata": {},
   "outputs": [],
   "source": [
    "\n",
    "shap.plots.force(explainer.expected_value, shap_values[0].values, matplotlib=True, feature_names = col_list.to_list())\n"
   ]
  },
  {
   "cell_type": "code",
   "execution_count": null,
   "id": "303e7c41",
   "metadata": {},
   "outputs": [],
   "source": [
    "shap_values[0].values\n"
   ]
  },
  {
   "cell_type": "code",
   "execution_count": null,
   "id": "106714de",
   "metadata": {},
   "outputs": [],
   "source": [
    "model_new.predict(Xnew_train)"
   ]
  },
  {
   "cell_type": "code",
   "execution_count": null,
   "id": "25360c6c",
   "metadata": {},
   "outputs": [],
   "source": [
    "len(shap_values[0].values)\n",
    "len(col_list)"
   ]
  },
  {
   "cell_type": "code",
   "execution_count": null,
   "id": "730f818e",
   "metadata": {},
   "outputs": [],
   "source": [
    "shap.decision_plot(explainer.expected_value, shap_values[0].values, feature_names=col_list.to_list())\n",
    "\n"
   ]
  },
  {
   "cell_type": "code",
   "execution_count": null,
   "id": "e9de3496",
   "metadata": {},
   "outputs": [],
   "source": [
    "shap.decision_plot(explainer.expected_value, shap_values.values, feature_names = col_list.to_list())"
   ]
  },
  {
   "cell_type": "code",
   "execution_count": null,
   "id": "2c1f5087",
   "metadata": {},
   "outputs": [],
   "source": [
    "len(shap_values[1].values)"
   ]
  },
  {
   "cell_type": "code",
   "execution_count": null,
   "id": "857d8290",
   "metadata": {},
   "outputs": [],
   "source": [
    "len(col_list)"
   ]
  },
  {
   "cell_type": "code",
   "execution_count": null,
   "id": "41cfebcb",
   "metadata": {},
   "outputs": [],
   "source": [
    "explainer.expected_value"
   ]
  },
  {
   "cell_type": "code",
   "execution_count": null,
   "id": "70017d45",
   "metadata": {},
   "outputs": [],
   "source": [
    "shap_values.base_values"
   ]
  },
  {
   "cell_type": "code",
   "execution_count": null,
   "id": "5af3cea8",
   "metadata": {},
   "outputs": [],
   "source": [
    "shap_values[:,0]"
   ]
  },
  {
   "cell_type": "code",
   "execution_count": null,
   "id": "88447e21",
   "metadata": {},
   "outputs": [],
   "source": [
    "shap.plots.beeswarm(shap_values, max_display=31)\n"
   ]
  },
  {
   "cell_type": "code",
   "execution_count": null,
   "id": "92edac6a",
   "metadata": {},
   "outputs": [],
   "source": [
    "shap.plots.bar(shap_values)\n",
    "max_display=31"
   ]
  },
  {
   "cell_type": "code",
   "execution_count": null,
   "id": "281083c6",
   "metadata": {},
   "outputs": [],
   "source": [
    "shap.summary_plot(shap_values, plot_type='violin')"
   ]
  },
  {
   "cell_type": "code",
   "execution_count": null,
   "id": "81eebb4a",
   "metadata": {},
   "outputs": [],
   "source": [
    "shap.initjs()"
   ]
  },
  {
   "cell_type": "code",
   "execution_count": null,
   "id": "9b71346a",
   "metadata": {},
   "outputs": [],
   "source": [
    "shap.force_plot(explainer.expected_value, shap_values.values)\n"
   ]
  },
  {
   "cell_type": "code",
   "execution_count": null,
   "id": "b24f2dc5",
   "metadata": {},
   "outputs": [],
   "source": [
    "type(shap_values)"
   ]
  },
  {
   "cell_type": "code",
   "execution_count": null,
   "id": "25596ae0",
   "metadata": {},
   "outputs": [],
   "source": [
    "shap_values.values.sort()\n",
    "for n in range(len(shap_values)):\n",
    "        print(shap_values[n])"
   ]
  },
  {
   "cell_type": "code",
   "execution_count": null,
   "id": "33f32c2f",
   "metadata": {},
   "outputs": [],
   "source": [
    "shap.Explanation"
   ]
  },
  {
   "cell_type": "code",
   "execution_count": null,
   "id": "2a218c37",
   "metadata": {},
   "outputs": [],
   "source": [
    "type(shap_values)"
   ]
  },
  {
   "cell_type": "code",
   "execution_count": null,
   "id": "673ff529",
   "metadata": {},
   "outputs": [],
   "source": [
    "type(shap_values[:,].values)"
   ]
  },
  {
   "cell_type": "code",
   "execution_count": null,
   "id": "b448e010",
   "metadata": {},
   "outputs": [],
   "source": [
    "shap_values[:,]"
   ]
  },
  {
   "cell_type": "code",
   "execution_count": null,
   "id": "d58b65a8",
   "metadata": {},
   "outputs": [],
   "source": [
    "type(shap_values[:,][0])"
   ]
  },
  {
   "cell_type": "code",
   "execution_count": null,
   "id": "18aff63b",
   "metadata": {},
   "outputs": [],
   "source": [
    "explainer.expected_value\n",
    "type(shap_values[:,0])"
   ]
  },
  {
   "cell_type": "code",
   "execution_count": null,
   "id": "66044efc",
   "metadata": {},
   "outputs": [],
   "source": [
    "shap_values[:, 1]"
   ]
  },
  {
   "cell_type": "code",
   "execution_count": null,
   "id": "c9600416",
   "metadata": {},
   "outputs": [],
   "source": [
    "for i in range(31):\n",
    "    shap.plots.scatter(shap_values[:,i],dot_size=60)\n",
    "\n",
    "\n"
   ]
  },
  {
   "cell_type": "code",
   "execution_count": null,
   "id": "9db23311",
   "metadata": {},
   "outputs": [],
   "source": [
    "shap.plots.heatmap(shap_values)"
   ]
  },
  {
   "cell_type": "code",
   "execution_count": null,
   "id": "ece7ba67",
   "metadata": {},
   "outputs": [],
   "source": [
    "df.to_csv('HDAISHAP.csv',index=False)"
   ]
  },
  {
   "cell_type": "code",
   "execution_count": null,
   "id": "b1043d10",
   "metadata": {},
   "outputs": [],
   "source": []
  },
  {
   "cell_type": "code",
   "execution_count": null,
   "id": "47ecfdb1",
   "metadata": {},
   "outputs": [],
   "source": []
  },
  {
   "cell_type": "code",
   "execution_count": null,
   "id": "90c0fb28",
   "metadata": {},
   "outputs": [],
   "source": []
  },
  {
   "cell_type": "code",
   "execution_count": null,
   "id": "ccd44e5d",
   "metadata": {},
   "outputs": [],
   "source": []
  },
  {
   "cell_type": "code",
   "execution_count": null,
   "id": "c3a5aa44",
   "metadata": {},
   "outputs": [],
   "source": []
  }
 ],
 "metadata": {
  "kernelspec": {
   "display_name": "Python 3",
   "language": "python",
   "name": "python3"
  },
  "language_info": {
   "codemirror_mode": {
    "name": "ipython",
    "version": 3
   },
   "file_extension": ".py",
   "mimetype": "text/x-python",
   "name": "python",
   "nbconvert_exporter": "python",
   "pygments_lexer": "ipython3",
   "version": "3.8.8"
  }
 },
 "nbformat": 4,
 "nbformat_minor": 5
}
