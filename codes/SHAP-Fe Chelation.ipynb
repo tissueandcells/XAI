{
 "cells": [
  {
   "cell_type": "code",
   "execution_count": null,
   "id": "b6b86d2f",
   "metadata": {},
   "outputs": [],
   "source": [
    "pip install eli5"
   ]
  },
  {
   "cell_type": "code",
   "execution_count": null,
   "id": "06fdc546",
   "metadata": {},
   "outputs": [],
   "source": [
    "from sklearn.ensemble import RandomForestRegressor\n",
    "from sklearn.model_selection import train_test_split\n",
    "import pandas as pd\n",
    "from eli5.sklearn import PermutationImportance\n",
    "import eli5\n",
    "import webbrowser\n",
    "\n",
    "df = pd.read_csv('kubra.csv')\n",
    "\n",
    "X =df.iloc[:, 0:881].values \n",
    "y = df.iloc[:, -1].values\n",
    "\n",
    "X_train, X_test, y_train, y_test = train_test_split(X, y, test_size=0.2, random_state=42)"
   ]
  },
  {
   "cell_type": "code",
   "execution_count": null,
   "id": "1dff7777",
   "metadata": {},
   "outputs": [],
   "source": [
    "model = RandomForestRegressor()\n",
    "\n",
    "model.fit(X_train, y_train)\n",
    "\n",
    "matrix = model.feature_importances_\n",
    "\n",
    "feature_imp = PermutationImportance(model, random_state=42).fit(X_train, y_train)\n",
    "\n",
    "results = eli5.show_weights(feature_imp, feature_names = df.columns[0:881].values, top=881)"
   ]
  },
  {
   "cell_type": "code",
   "execution_count": null,
   "id": "c447627a",
   "metadata": {},
   "outputs": [],
   "source": [
    "gt = eli5.explain_weights(feature_imp, feature_names = df.columns[0:881].values)\n",
    "\n",
    "aa = eli5.format_as_dataframe(eli5.explain_weights(feature_imp, top=881))\n",
    "\n",
    "#with open('importance.htm','wb') as f:\n",
    "#    f.write(wgt.data.encode(\"UTF-8\"))\n",
    "\n",
    "\n",
    "selected_features = aa[aa['weight'] >= 0.005]\n",
    "col_list = [ 'PubchemFP' + clm[1:] for clm in selected_features['feature']]\n",
    "col_list.append('pIC50')\n",
    "\n",
    "clean_df = df[col_list]"
   ]
  },
  {
   "cell_type": "code",
   "execution_count": null,
   "id": "f068250a",
   "metadata": {},
   "outputs": [],
   "source": [
    "X_new =clean_df.iloc[:, 0:31].values \n",
    "y_new = clean_df.iloc[:, -1].values\n",
    "\n",
    "Xnew_train, Xnew_test, ynew_train, ynew_test = train_test_split(X_new, y_new, test_size=0.2, random_state=42)\n"
   ]
  },
  {
   "cell_type": "code",
   "execution_count": null,
   "id": "c9517a53",
   "metadata": {},
   "outputs": [],
   "source": [
    "\n",
    "model_new = RandomForestRegressor(n_estimators=100)\n",
    "\n",
    "model_new.fit(Xnew_train, ynew_train)\n",
    "\n",
    "from sklearn.metrics import r2_score, mean_squared_error, mean_absolute_error\n",
    "\n",
    "import seaborn as sns\n",
    "\n",
    "rf_predict = model_new.predict(Xnew_train)\n",
    "\n",
    "sns.regplot(ynew_train, rf_predict)\n",
    "\n",
    "\n"
   ]
  },
  {
   "cell_type": "code",
   "execution_count": null,
   "id": "115b13e0",
   "metadata": {},
   "outputs": [],
   "source": [
    "import random"
   ]
  },
  {
   "cell_type": "code",
   "execution_count": null,
   "id": "557aebc8",
   "metadata": {},
   "outputs": [],
   "source": [
    "random.seed(0)"
   ]
  },
  {
   "cell_type": "code",
   "execution_count": null,
   "id": "69c85589",
   "metadata": {},
   "outputs": [],
   "source": [
    "import shap\n",
    "import matplotlib\n",
    "explainer = shap.Explainer(model_new, Xnew_train)\n",
    "shap_values = explainer(Xnew_train)"
   ]
  },
  {
   "cell_type": "code",
   "execution_count": null,
   "id": "5e662310",
   "metadata": {},
   "outputs": [],
   "source": [
    "random.seed(0)\n",
    "shap.plots.waterfall(shap_values[0])\n",
    "max_display=31"
   ]
  },
  {
   "cell_type": "code",
   "execution_count": null,
   "id": "e51c3283",
   "metadata": {},
   "outputs": [],
   "source": [
    "random.seed(0)\n",
    "shap.plots.force(explainer.expected_value, shap_values[0].values, matplotlib=True)\n"
   ]
  },
  {
   "cell_type": "code",
   "execution_count": null,
   "id": "157caab1",
   "metadata": {},
   "outputs": [],
   "source": [
    "shap_values[0].values\n"
   ]
  },
  {
   "cell_type": "code",
   "execution_count": null,
   "id": "59525c8e",
   "metadata": {},
   "outputs": [],
   "source": [
    "model_new.predict(Xnew_train)"
   ]
  },
  {
   "cell_type": "code",
   "execution_count": null,
   "id": "c50b839f",
   "metadata": {},
   "outputs": [],
   "source": [
    "shap.decision_plot(explainer.expected_value, shap_values[0].values)\n",
    "\n"
   ]
  },
  {
   "cell_type": "code",
   "execution_count": null,
   "id": "6c496a47",
   "metadata": {},
   "outputs": [],
   "source": [
    "shap.decision_plot(explainer.expected_value, shap_values.values)"
   ]
  },
  {
   "cell_type": "code",
   "execution_count": null,
   "id": "0f2d528a",
   "metadata": {},
   "outputs": [],
   "source": [
    "explainer.expected_value"
   ]
  },
  {
   "cell_type": "code",
   "execution_count": null,
   "id": "b93ed550",
   "metadata": {},
   "outputs": [],
   "source": [
    "shap_values.base_values"
   ]
  },
  {
   "cell_type": "code",
   "execution_count": null,
   "id": "c453bb21",
   "metadata": {},
   "outputs": [],
   "source": [
    "shap_values[:,0]"
   ]
  },
  {
   "cell_type": "code",
   "execution_count": null,
   "id": "c38115dc",
   "metadata": {},
   "outputs": [],
   "source": [
    "shap.plots.beeswarm(shap_values, max_display=31)\n"
   ]
  },
  {
   "cell_type": "code",
   "execution_count": null,
   "id": "be411007",
   "metadata": {},
   "outputs": [],
   "source": [
    "shap.plots.bar(shap_values)\n",
    "max_display=31"
   ]
  },
  {
   "cell_type": "code",
   "execution_count": null,
   "id": "77812097",
   "metadata": {},
   "outputs": [],
   "source": [
    "shap.summary_plot(shap_values, plot_type='violin')"
   ]
  },
  {
   "cell_type": "code",
   "execution_count": null,
   "id": "d5e3adb5",
   "metadata": {},
   "outputs": [],
   "source": [
    "shap.initjs()"
   ]
  },
  {
   "cell_type": "code",
   "execution_count": null,
   "id": "cd190dd0",
   "metadata": {},
   "outputs": [],
   "source": [
    "shap.force_plot(explainer.expected_value, shap_values.values)\n"
   ]
  },
  {
   "cell_type": "code",
   "execution_count": null,
   "id": "496bcf68",
   "metadata": {},
   "outputs": [],
   "source": [
    "type(shap_values)"
   ]
  },
  {
   "cell_type": "code",
   "execution_count": null,
   "id": "b3ae328e",
   "metadata": {},
   "outputs": [],
   "source": [
    "shap_values.values.sort()\n",
    "for n in range(len(shap_values)):\n",
    "        print(shap_values[n])"
   ]
  },
  {
   "cell_type": "code",
   "execution_count": null,
   "id": "5a661f59",
   "metadata": {},
   "outputs": [],
   "source": [
    "shap.plots.scatter(explainer.expected_value, shap_values.values)"
   ]
  },
  {
   "cell_type": "code",
   "execution_count": null,
   "id": "a3a1a9de",
   "metadata": {},
   "outputs": [],
   "source": [
    "shap.plots.heatmap(shap_values[:,0])"
   ]
  },
  {
   "cell_type": "code",
   "execution_count": null,
   "id": "398c213a",
   "metadata": {},
   "outputs": [],
   "source": [
    "df.to_csv('RFSHAP.csv',index=False)"
   ]
  },
  {
   "cell_type": "code",
   "execution_count": null,
   "id": "63dd1152",
   "metadata": {},
   "outputs": [],
   "source": []
  }
 ],
 "metadata": {
  "kernelspec": {
   "display_name": "Python 3",
   "language": "python",
   "name": "python3"
  },
  "language_info": {
   "codemirror_mode": {
    "name": "ipython",
    "version": 3
   },
   "file_extension": ".py",
   "mimetype": "text/x-python",
   "name": "python",
   "nbconvert_exporter": "python",
   "pygments_lexer": "ipython3",
   "version": "3.8.8"
  }
 },
 "nbformat": 4,
 "nbformat_minor": 5
}
